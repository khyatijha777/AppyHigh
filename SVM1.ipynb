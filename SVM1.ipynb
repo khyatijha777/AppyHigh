{
 "cells": [
  {
   "cell_type": "markdown",
   "metadata": {},
   "source": [
    "# Support vector machine"
   ]
  },
  {
   "cell_type": "markdown",
   "metadata": {},
   "source": [
    "## What is SVM?\n",
    "\n",
    "SVM is a machine learning algorithem which comes under supervised learning.\n",
    "Which means first we need to train the machine, using the previous labeled data and based on the previously feeded data it predicts the possible class of some test data.\n",
    "\n",
    "## How SVM works?\n",
    "As mentioned above SVM takes data to train the classifier and based on that data It draws planes which separtaes various classes. And the this algorithem selects the plane which separates the classes in the best possible manner.\n",
    "The selected plane is called hyperplane.\n",
    "As this hyperplane devides the graph into various classes, new data can be classified according to the region that it falls in.\n",
    "\n",
    "## How the hyperplane is selected\n",
    "The plane with the maximum margin from both the classes s considered hyperplane. And to find the margin from bpth the classes SVM uses two support vectors.\n",
    "\n",
    "\n",
    "\n",
    "\n",
    "\n",
    "\n",
    "\n",
    "\n",
    "\n",
    "\n",
    "\n",
    "\n",
    "\n",
    "\n",
    "\n",
    "\n",
    "\n",
    "\n",
    "\n",
    "\n",
    "\n",
    "\n",
    "\n",
    "\n",
    "\n",
    "\n",
    "\n",
    "\n",
    "\n",
    "\n",
    "\n",
    "\n",
    "\n",
    "\n",
    "\n",
    "\n",
    "\n",
    "\n",
    "\n",
    "\n"
   ]
  },
  {
   "cell_type": "markdown",
   "metadata": {},
   "source": [
    "# Example\n",
    "\n",
    "Lets take an example where we have data of flourine and clourine quantity in the water, and if the water is good or bad to health.\n",
    "So here we have two feature-  flourine quantity and clourine quantity\n",
    "classes - bad and good\n",
    "\n",
    "Now for new data of water, we need to create a model which can classify whether the water is good or bad for health. \n",
    "\n"
   ]
  },
  {
   "cell_type": "markdown",
   "metadata": {},
   "source": [
    "# Support vector machine algorithem python implementation\n",
    "# ----------------------------------------------------------------------------------------"
   ]
  },
  {
   "cell_type": "markdown",
   "metadata": {},
   "source": [
    "In the next cell we will import all required modules\n",
    "\n",
    "1- numpy is for numerical computation\n",
    "\n",
    "2- Matplotlib helps bhuild graphs\n",
    "\n",
    "3- Sklearn includes algorithm models\n",
    "\n",
    "4- make_blobs creates fake data"
   ]
  },
  {
   "cell_type": "code",
   "execution_count": 51,
   "metadata": {},
   "outputs": [],
   "source": [
    "import numpy as np\n",
    "import matplotlib.pyplot as plt\n",
    "from sklearn import svm\n",
    "from sklearn.datasets.samples_generator import make_blobs\n"
   ]
  },
  {
   "cell_type": "markdown",
   "metadata": {},
   "source": [
    "In this cell we are creating fake data using make_blobs\n",
    "\n",
    "where\n",
    "\n",
    "x= [flourine, clorine]\n",
    "\n",
    "y = [0,1] or [bad, good]\n",
    "\n",
    "n_samples = no of total samples we need\n",
    "\n",
    "n_features = no of features(clorine , flourine)\n",
    "\n",
    "centers = no of classes( good and bad)\n",
    "\n"
   ]
  },
  {
   "cell_type": "code",
   "execution_count": 52,
   "metadata": {},
   "outputs": [],
   "source": [
    "x, y = make_blobs(n_samples = 40, n_features = 2, centers  =2)\n",
    "\n"
   ]
  },
  {
   "cell_type": "markdown",
   "metadata": {},
   "source": [
    "Now we need to create a classifier and fit it to the data \n",
    "\n",
    "kernel  represents that we want linear classification "
   ]
  },
  {
   "cell_type": "code",
   "execution_count": 53,
   "metadata": {},
   "outputs": [
    {
     "data": {
      "text/plain": [
       "SVC(C=1, cache_size=200, class_weight=None, coef0=0.0,\n",
       "  decision_function_shape='ovr', degree=3, gamma='auto_deprecated',\n",
       "  kernel='linear', max_iter=-1, probability=False, random_state=None,\n",
       "  shrinking=True, tol=0.001, verbose=False)"
      ]
     },
     "execution_count": 53,
     "metadata": {},
     "output_type": "execute_result"
    }
   ],
   "source": [
    "clf = svm.SVC(kernel = 'linear', C=1)\n",
    "clf.fit(x, y)"
   ]
  },
  {
   "cell_type": "markdown",
   "metadata": {},
   "source": [
    "Here we are plotting the data in two different colours according to their classes"
   ]
  },
  {
   "cell_type": "code",
   "execution_count": 54,
   "metadata": {},
   "outputs": [
    {
     "data": {
      "image/png": "[encoded data removed]",
      "text/plain": [
       "<Figure size 432x288 with 1 Axes>"
      ]
     },
     "metadata": {
      "needs_background": "light"
     },
     "output_type": "display_data"
    }
   ],
   "source": [
    "plt.scatter(x[:, 0],x[:,1], c= y)\n",
    "plt.show()"
   ]
  },
  {
   "cell_type": "markdown",
   "metadata": {},
   "source": [
    "new_data is the data created by us to check what our models predicts for unknown data\n",
    "\n",
    "to predict the class we use clf.predict()\n",
    "\n"
   ]
  },
  {
   "cell_type": "code",
   "execution_count": 55,
   "metadata": {},
   "outputs": [
    {
     "name": "stdout",
     "output_type": "stream",
     "text": [
      "[0]\n"
     ]
    }
   ],
   "source": [
    "new_data = [[3,4]]\n",
    "r= clf.predict(new_data)\n",
    "print(r)"
   ]
  },
  {
   "cell_type": "code",
   "execution_count": null,
   "metadata": {},
   "outputs": [],
   "source": []
  }
 ],
 "metadata": {
  "kernelspec": {
   "display_name": "Python 3",
   "language": "python",
   "name": "python3"
  },
  "language_info": {
   "codemirror_mode": {
    "name": "ipython",
    "version": 3
   },
   "file_extension": ".py",
   "mimetype": "text/x-python",
   "name": "python",
   "nbconvert_exporter": "python",
   "pygments_lexer": "ipython3",
   "version": "3.6.4"
  }
 },
 "nbformat": 4,
 "nbformat_minor": 2
}
