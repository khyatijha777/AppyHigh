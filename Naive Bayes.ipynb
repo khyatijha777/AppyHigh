{
 "cells": [
  {
   "cell_type": "markdown",
   "metadata": {},
   "source": [
    "# Naive Bayes algorithm\n"
   ]
  },
  {
   "cell_type": "markdown",
   "metadata": {},
   "source": [
    "## What is naive bayes algorithm?\n",
    "Naive bayes is a machine learning algoithm which is used for classification problems.\n",
    "This probabilistic classifier.\n",
    "This algorithm is named as \"naive\" beacuse it assumes that accuarnce of a certain feature does not depend upon the occurance of the other feaure.\n",
    "And it called \"bayes\" because it works on the Baye's theorem.\n",
    "\n",
    "## What is Baye's theorem?\n",
    "THis is a algorithm related to probability. \n",
    "It states that probability of event B given A is equal to the probability of the event A given B multiplied bythe probability of A upon probability of B.\n",
    "\n",
    "#### P(A|B) = P(B|A)* P(A) / P(B)\n",
    "\n",
    "So in machine learning lets suppose \n",
    "\n",
    "features = (X1, X2, X3 ....Xn) and\n",
    "\n",
    "classes = (C1,C2,C3...Cm)\n",
    "\n",
    "#### P(Cj|X1,X2,...Xn) = sum (P(Xj|Ci))* P(Cj)/P(X1,X2,..Xn) for 1<i<m"
   ]
  },
  {
   "cell_type": "markdown",
   "metadata": {},
   "source": [
    "## Where it is used?\n",
    "This algorithem is mostly used in text classification.\n",
    "\n",
    "Spam classification. \n",
    "\n",
    "Classification of news articles."
   ]
  },
  {
   "cell_type": "markdown",
   "metadata": {},
   "source": [
    "## Why naive bayes?\n",
    "This algorithm is very quick in prediction.\n",
    "\n",
    "this is simple as well as effective.\n",
    "\n",
    "This algorithm is very effective for large data.\n",
    "\n",
    "The model building is fast.\n"
   ]
  },
  {
   "cell_type": "markdown",
   "metadata": {},
   "source": [
    "## Steps involved?\n",
    "1. Data aquisition.\n",
    "2. Creation of frequency table for each event.\n",
    "3. Creation of likelihood table.\n",
    "4. Calculation of likelihoods of the given class labels.\n",
    "5. Calcualtion of Likelihood probability with each attribute for each class.\n",
    "5. prediction based on the probability of the given features.\n",
    "\n"
   ]
  },
  {
   "cell_type": "code",
   "execution_count": 137,
   "metadata": {},
   "outputs": [
    {
     "name": "stdout",
     "output_type": "stream",
     "text": [
      "[['sour' '136' 'orange']\n",
      " ['sweet' '150' 'apple']\n",
      " ['sour' '128' 'orange']\n",
      " ['sour' '150' 'apple']\n",
      " ['sweet' '130' 'orange']\n",
      " ['sweet' '140' 'apple']\n",
      " ['sweet' '120' 'orange']\n",
      " ['sweet' '130' 'apple']\n",
      " ['sour' '160' 'apple']\n",
      " ['sour' '123' 'orange']]\n"
     ]
    }
   ],
   "source": [
    "import numpy as np\n",
    "features = [\n",
    "    ['sour',136, 'orange'],\n",
    "    ['sweet', 150, 'apple'],\n",
    "    ['sour',128, 'orange'],\n",
    "    ['sour', 150, 'apple'],\n",
    "    ['sweet',130, 'orange'],\n",
    "    ['sweet', 140, 'apple'],\n",
    "    ['sweet',120, 'orange'],\n",
    "    ['sweet', 130, 'apple'],\n",
    "    ['sour', 160, 'apple'],\n",
    "    ['sour',123, 'orange'],\n",
    "]\n",
    "features= np.array(features)\n",
    "# T_feature = features.T\n",
    "print(features)"
   ]
  },
  {
   "cell_type": "code",
   "execution_count": 138,
   "metadata": {},
   "outputs": [],
   "source": [
    "# Import LabelEncoder\n",
    "from sklearn import preprocessing\n",
    "#creating labelEncoder\n",
    "\n",
    "encoder = preprocessing.LabelEncoder()\n",
    "\n",
    "# Converting string labels into numbers.\n",
    "features[... ,0] = encoder.fit_transform(features[... ,0])\n",
    "\n"
   ]
  },
  {
   "cell_type": "code",
   "execution_count": 139,
   "metadata": {},
   "outputs": [
    {
     "name": "stdout",
     "output_type": "stream",
     "text": [
      "is orange: [1 0 1 0 1 0 1 0 0 1]\n",
      "[['0' '136' '1']\n",
      " ['1' '150' '0']\n",
      " ['0' '128' '1']\n",
      " ['0' '150' '0']\n",
      " ['1' '130' '1']\n",
      " ['1' '140' '0']\n",
      " ['1' '120' '1']\n",
      " ['1' '130' '0']\n",
      " ['0' '160' '0']\n",
      " ['0' '123' '1']]\n"
     ]
    }
   ],
   "source": [
    "# Converting string labels into numbers\n",
    "features[... , 2] = encoder.fit_transform(features[... , 2])\n",
    "print (\"is orange:\",label)\n",
    "print(features)\n"
   ]
  },
  {
   "cell_type": "code",
   "execution_count": 143,
   "metadata": {},
   "outputs": [
    {
     "name": "stdout",
     "output_type": "stream",
     "text": [
      "apple\n"
     ]
    }
   ],
   "source": [
    "#Import Gaussian Naive Bayes model\n",
    "from sklearn.naive_bayes import GaussianNB\n",
    "\n",
    "#Create a Gaussian Classifier\n",
    "model = GaussianNB()\n",
    "\n",
    "# Train the model using the training sets\n",
    "model.fit(features[... , 0:2 ].astype(np.int), label)\n",
    "\n",
    "x_test = [[1,130]]\n",
    "#Predict Output\n",
    "y_pred = model.predict(x_test) # 0:Overcast, 2:Mild\n",
    "# print (\"Predicted Value:\", y_pred)\n",
    "if y_pred == 0:\n",
    "    print (\"orange\")\n",
    "elif y_pred == 1:\n",
    "    print(\"apple\")"
   ]
  },
  {
   "cell_type": "code",
   "execution_count": null,
   "metadata": {},
   "outputs": [],
   "source": []
  },
  {
   "cell_type": "code",
   "execution_count": null,
   "metadata": {},
   "outputs": [],
   "source": []
  }
 ],
 "metadata": {
  "kernelspec": {
   "display_name": "Python 3",
   "language": "python",
   "name": "python3"
  },
  "language_info": {
   "codemirror_mode": {
    "name": "ipython",
    "version": 3
   },
   "file_extension": ".py",
   "mimetype": "text/x-python",
   "name": "python",
   "nbconvert_exporter": "python",
   "pygments_lexer": "ipython3",
   "version": "3.6.4"
  }
 },
 "nbformat": 4,
 "nbformat_minor": 2
}
