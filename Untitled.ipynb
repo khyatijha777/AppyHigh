{
 "cells": [
  {
   "cell_type": "markdown",
   "metadata": {},
   "source": [
    "# 1. Support vector machine\n",
    "\n"
   ]
  },
  {
   "cell_type": "code",
   "execution_count": 20,
   "metadata": {},
   "outputs": [],
   "source": [
    "import numpy as np\n",
    "import matplotlib.pyplot as plt\n",
    "from sklearn import svm\n",
    "from sklearn.datasets.samples_generator import make_blobs"
   ]
  },
  {
   "cell_type": "code",
   "execution_count": 32,
   "metadata": {},
   "outputs": [
    {
     "name": "stdout",
     "output_type": "stream",
     "text": [
      "[[ 1.71842122  9.52190711]\n",
      " [ 9.13204399  5.32194764]\n",
      " [ 8.68770841  7.79789319]\n",
      " [ 2.8137247   8.36064298]\n",
      " [ 7.27542879  6.31825811]\n",
      " [ 0.48311336  8.19998973]\n",
      " [ 7.9294032   6.08842852]\n",
      " [ 2.69548237 10.01411256]\n",
      " [ 2.26571286  8.36068903]\n",
      " [ 0.82767806  6.34128434]\n",
      " [ 0.87712287  6.84969507]\n",
      " [ 6.86839861  5.83429863]\n",
      " [ 0.97059923  7.11190662]\n",
      " [ 2.12015254  5.61101265]\n",
      " [ 2.88274828  9.28705277]\n",
      " [ 8.47704476  6.80415251]\n",
      " [ 7.61095347  7.8201477 ]\n",
      " [ 1.65359865  9.510461  ]\n",
      " [ 2.08607703  7.46086368]\n",
      " [ 9.92527993  6.67617854]\n",
      " [ 2.09222936  6.81774802]\n",
      " [ 1.59396992  4.76457177]\n",
      " [ 0.67778343  8.51397085]\n",
      " [ 7.86880706  7.3062361 ]\n",
      " [ 8.32405183  3.6123843 ]\n",
      " [ 8.35834306  6.47258777]\n",
      " [ 2.28968574  6.40317382]\n",
      " [ 6.34822954  5.46058533]\n",
      " [ 7.22830657  7.86147791]\n",
      " [ 8.47764867  6.90996676]\n",
      " [ 1.89139437  5.88732584]\n",
      " [ 8.26863909  7.67453856]\n",
      " [ 1.42412542  8.27524534]\n",
      " [ 2.70208537  6.97579352]\n",
      " [ 8.52161671  4.83102994]\n",
      " [ 7.00192182  6.43079715]\n",
      " [ 9.03512586  7.66854573]\n",
      " [ 1.51927726  7.82424385]\n",
      " [ 6.9758391   5.80360444]\n",
      " [ 7.59114483  6.77649377]]\n",
      "\n",
      "[0 1 1 0 1 0 1 0 0 0 0 1 0 0 0 1 1 0 0 1 0 0 0 1 1 1 0 1 1 1 0 1 0 0 1 1 1\n",
      " 0 1 1]\n"
     ]
    }
   ],
   "source": [
    "x, y = make_blobs(n_samples = 40, n_features = 2, centers  =2, random_state = 20)\n",
    "print(x)\n",
    "print()\n",
    "print(y)"
   ]
  },
  {
   "cell_type": "code",
   "execution_count": 33,
   "metadata": {},
   "outputs": [
    {
     "name": "stdout",
     "output_type": "stream",
     "text": [
      "(0.0, 7.708982250197069) (0.0, 8.454437545889965)\n"
     ]
    }
   ],
   "source": [
    "# plot the decision function\n",
    "#indentifying the limits of x and y\n",
    "xlim = ax.get_xlim()\n",
    "ylim = ax.get_ylim()\n",
    "print(xlim, ylim)"
   ]
  },
  {
   "cell_type": "code",
   "execution_count": 34,
   "metadata": {},
   "outputs": [
    {
     "name": "stdout",
     "output_type": "stream",
     "text": [
      "[0.         0.26582697 0.53165395 0.79748092 1.0633079  1.32913487\n",
      " 1.59496184 1.86078882 2.12661579 2.39244277 2.65826974 2.92409672\n",
      " 3.18992369 3.45575066 3.72157764 3.98740461 4.25323159 4.51905856\n",
      " 4.78488553 5.05071251 5.31653948 5.58236646 5.84819343 6.11402041\n",
      " 6.37984738 6.64567435 6.91150133 7.1773283  7.44315528 7.70898225]\n",
      "\n",
      "\n",
      "[0.         0.29153233 0.58306466 0.87459699 1.16612932 1.45766165\n",
      " 1.74919398 2.0407263  2.33225863 2.62379096 2.91532329 3.20685562\n",
      " 3.49838795 3.78992028 4.08145261 4.37298494 4.66451727 4.9560496\n",
      " 5.24758193 5.53911425 5.83064658 6.12217891 6.41371124 6.70524357\n",
      " 6.9967759  7.28830823 7.57984056 7.87137289 8.16290522 8.45443755]\n"
     ]
    }
   ],
   "source": [
    "#create numpy array of 30-30 values for each x and y\n",
    "xx = np.linspace(xlim[0], xlim[1], 30)\n",
    "yy = np.linspace(ylim[0], ylim[1], 30)\n",
    "print(xx)\n",
    "print(\"\\n\")\n",
    "print(yy)"
   ]
  },
  {
   "cell_type": "code",
   "execution_count": 36,
   "metadata": {},
   "outputs": [
    {
     "name": "stdout",
     "output_type": "stream",
     "text": [
      "(30, 30)\n",
      "(30, 30)\n"
     ]
    }
   ],
   "source": [
    "#using meshgrid() to get all possible combinations of x and y\n",
    "YY, XX = np.meshgrid(yy,xx)\n",
    "\n",
    "print(np.shape(YY))\n",
    "print(np.shape(XX))"
   ]
  },
  {
   "cell_type": "code",
   "execution_count": 37,
   "metadata": {},
   "outputs": [
    {
     "name": "stdout",
     "output_type": "stream",
     "text": [
      "(900,)\n",
      "(900,)\n"
     ]
    }
   ],
   "source": [
    "print(np.shape(XX.ravel()))\n",
    "print(np.shape(YY.ravel()))"
   ]
  },
  {
   "cell_type": "code",
   "execution_count": 38,
   "metadata": {},
   "outputs": [
    {
     "name": "stdout",
     "output_type": "stream",
     "text": [
      "(30, 30)\n"
     ]
    }
   ],
   "source": [
    "xy = np.vstack([XX.ravel(), YY.ravel()]).T\n",
    "z = clf.decision_function(xy).reshape(XX.shape)\n",
    "print(np.shape(z))"
   ]
  },
  {
   "cell_type": "code",
   "execution_count": 39,
   "metadata": {},
   "outputs": [
    {
     "data": {
      "text/plain": [
       "<matplotlib.contour.QuadContourSet at 0x7fb616133a90>"
      ]
     },
     "execution_count": 39,
     "metadata": {},
     "output_type": "execute_result"
    }
   ],
   "source": [
    "ax.contour( \n",
    "            XX,YY, z, colors = 'k', levels= [-1,0,1],\n",
    "            alpha = 0.5,\n",
    "            linestyles = [\"--\", \"-\",\"--\"]\n",
    "           )\n",
    "\n",
    "\n",
    "                                            "
   ]
  },
  {
   "cell_type": "code",
   "execution_count": 17,
   "metadata": {},
   "outputs": [
    {
     "data": {
      "text/plain": [
       "<matplotlib.collections.PathCollection at 0x7fb616217470>"
      ]
     },
     "execution_count": 17,
     "metadata": {},
     "output_type": "execute_result"
    }
   ],
   "source": [
    "ax.scatter(clf.support_vectors_[:,0],\n",
    "          clf.support_vectors_[:,1], s=100,\n",
    "           linewidth = 1, facecolors = 'none'\n",
    "          )\n",
    "\n"
   ]
  },
  {
   "cell_type": "code",
   "execution_count": 18,
   "metadata": {},
   "outputs": [],
   "source": [
    "plt.plot()"
   ]
  },
  {
   "cell_type": "code",
   "execution_count": null,
   "metadata": {},
   "outputs": [],
   "source": []
  }
 ],
 "metadata": {
  "kernelspec": {
   "display_name": "Python 3",
   "language": "python",
   "name": "python3"
  },
  "language_info": {
   "codemirror_mode": {
    "name": "ipython",
    "version": 3
   },
   "file_extension": ".py",
   "mimetype": "text/x-python",
   "name": "python",
   "nbconvert_exporter": "python",
   "pygments_lexer": "ipython3",
   "version": "3.6.4"
  }
 },
 "nbformat": 4,
 "nbformat_minor": 2
}
